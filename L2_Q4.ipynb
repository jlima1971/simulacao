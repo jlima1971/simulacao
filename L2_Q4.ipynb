{
 "cells": [
  {
   "cell_type": "markdown",
   "metadata": {},
   "source": [
    "###Método da bisseção"
   ]
  },
  {
   "cell_type": "code",
   "execution_count": 1,
   "metadata": {
    "collapsed": true
   },
   "outputs": [],
   "source": [
    "import math"
   ]
  },
  {
   "cell_type": "code",
   "execution_count": 2,
   "metadata": {
    "collapsed": false
   },
   "outputs": [],
   "source": [
    "def f(x):\n",
    "    return x**0.5*math.sin(1)-x**3+2\n",
    "    #return x**3 + 2*x**2 + 10*x - 20\n",
    "    \n",
    "def pt_medio(a,b):\n",
    "    return (a+b)/2\n",
    "\n",
    "def define_novo_intervalo(a,b,c):\n",
    "    if f(a)*f(c)<0:\n",
    "        return a,c\n",
    "    else:\n",
    "        return c,b"
   ]
  },
  {
   "cell_type": "code",
   "execution_count": 3,
   "metadata": {
    "collapsed": false
   },
   "outputs": [
    {
     "name": "stdout",
     "output_type": "stream",
     "text": [
      "Raiz: 1.4443359375\n",
      "Erro: 0.00048828125\n"
     ]
    }
   ],
   "source": [
    "a,b=1,2\n",
    "erro_maximo=1/1000\n",
    "\n",
    "while (b-a)/2>=erro_maximo:\n",
    "    c = pt_medio(a,b)\n",
    "    if f(c)==0:\n",
    "        print('Achei a raiz!' + str(c))\n",
    "        break\n",
    "    a,b=define_novo_intervalo(a,b,c)\n",
    "\n",
    "raiz = pt_medio(a,b)\n",
    "a,b = define_novo_intervalo(a,b,raiz)\n",
    "#1,46875\n",
    "print('Raiz: ' + str(raiz))\n",
    "print('Erro: ' + str((b-a)/2))\n"
   ]
  },
  {
   "cell_type": "code",
   "execution_count": 4,
   "metadata": {
    "collapsed": false
   },
   "outputs": [
    {
     "data": {
      "text/plain": [
       "-0.0017540242745268664"
      ]
     },
     "execution_count": 4,
     "metadata": {},
     "output_type": "execute_result"
    }
   ],
   "source": [
    "x=raiz\n",
    "f(x)"
   ]
  },
  {
   "cell_type": "code",
   "execution_count": null,
   "metadata": {
    "collapsed": true
   },
   "outputs": [],
   "source": []
  }
 ],
 "metadata": {
  "kernelspec": {
   "display_name": "Python 3",
   "language": "python",
   "name": "python3"
  },
  "language_info": {
   "codemirror_mode": {
    "name": "ipython",
    "version": 3
   },
   "file_extension": ".py",
   "mimetype": "text/x-python",
   "name": "python",
   "nbconvert_exporter": "python",
   "pygments_lexer": "ipython3",
   "version": "3.4.3"
  }
 },
 "nbformat": 4,
 "nbformat_minor": 0
}
