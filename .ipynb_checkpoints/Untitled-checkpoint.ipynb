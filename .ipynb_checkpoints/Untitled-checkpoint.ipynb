{
 "cells": [
  {
   "cell_type": "code",
   "execution_count": 2,
   "metadata": {
    "collapsed": true
   },
   "outputs": [],
   "source": [
    "from scipy import interpolate\n",
    "import math"
   ]
  },
  {
   "cell_type": "code",
   "execution_count": 86,
   "metadata": {
    "collapsed": false
   },
   "outputs": [],
   "source": [
    "def f(x):\n",
    "    return x*(math.e**x)\n",
    "\n",
    "def f2(x):\n",
    "    return math.cos(x)"
   ]
  },
  {
   "cell_type": "code",
   "execution_count": 92,
   "metadata": {
    "collapsed": false
   },
   "outputs": [
    {
     "data": {
      "text/plain": [
       "poly1d([ 1.38769337,  0.05758106,  1.2730074 ,  0.        ])"
      ]
     },
     "execution_count": 92,
     "metadata": {},
     "output_type": "execute_result"
    }
   ],
   "source": [
    "#Cria o polinômio de Lagrange a partir dos pontos com mesmo espaçamento\n",
    "xs = [0,0.5,1,1.5]\n",
    "fs = [f(x) for x in xs]\n",
    "\n",
    "p = interpolate.lagrange(xs,fs)\n",
    "p"
   ]
  },
  {
   "cell_type": "code",
   "execution_count": 98,
   "metadata": {
    "collapsed": false
   },
   "outputs": [
    {
     "data": {
      "text/plain": [
       "poly1d([ 1.38109366,  0.04465238,  1.30309085, -0.01435194])"
      ]
     },
     "execution_count": 98,
     "metadata": {},
     "output_type": "execute_result"
    }
   ],
   "source": [
    "#Cria o polinômio de Lagrange a partir dos pontos encontrados a partir do polinômio de Chebyshev\n",
    "cheb=[math.cos((2*i-1)*math.pi/8) for i in range(1,5)]\n",
    "xs = [(1+x)*1.5/2 for x in cheb]\n",
    "fs = [f(x) for x in xs]\n",
    "\n",
    "p = interpolate.lagrange(xs,fs)\n",
    "p"
   ]
  },
  {
   "cell_type": "code",
   "execution_count": null,
   "metadata": {
    "collapsed": true
   },
   "outputs": [],
   "source": []
  }
 ],
 "metadata": {
  "kernelspec": {
   "display_name": "Python 3",
   "language": "python",
   "name": "python3"
  },
  "language_info": {
   "codemirror_mode": {
    "name": "ipython",
    "version": 3
   },
   "file_extension": ".py",
   "mimetype": "text/x-python",
   "name": "python",
   "nbconvert_exporter": "python",
   "pygments_lexer": "ipython3",
   "version": "3.4.3"
  }
 },
 "nbformat": 4,
 "nbformat_minor": 0
}
